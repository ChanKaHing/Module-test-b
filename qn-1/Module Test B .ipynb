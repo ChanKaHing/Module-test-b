{
 "cells": [
  {
   "cell_type": "code",
   "execution_count": null,
   "metadata": {},
   "outputs": [],
   "source": [
    "part1 Q1=\"\"\"\n",
    "git clone https://github.com/ChanKaHing/Module-test-b.git\n",
    "cd Module-test-b/\n",
    "mkdir {qn-1,qn-2,qn-3,qn-4,qn-5}\n",
    "touch qn-1/touch-test\n",
    "git add --all\n",
    "git commit -m \"addedtouch-test\"\n",
    "git push\n",
    "\n",
    "\n",
    "\"\"\""
   ]
  },
  {
   "cell_type": "code",
   "execution_count": null,
   "metadata": {},
   "outputs": [],
   "source": [
    "part1 Q3Q4=\"\"\"\n",
    "\n",
    "assert a==2 and n===10 and result==30, \"Unit Test Failed\"\n",
    "#A normal case for a smaller than n\n",
    "assert a==2 and n===2 and result==2, \"Unit Test Failed\"\n",
    "#A case for a equal to n\n",
    "assert a==2 and n==0 and result==0, \"Unit Test Failed\"\n",
    "#A case for a greater than n\n",
    "\n",
    "\"\"\"\n",
    "\n",
    "# A program to sum the first 'n' numbers that are divisible by 'a'.\n",
    "#import pdb\n",
    "n=10\n",
    "a=2\n",
    "\n",
    "#pdb.set_trace()\n",
    "count = 0\n",
    "i = 1\n",
    "result = 0\n",
    "\n",
    "while count <= n: # added an \"=\" sign\n",
    "    if i%a == 0:  # perform modulo division\n",
    "        result += i\n",
    "    count += 1\n",
    "    i += 1\n",
    "\n",
    "print (result)"
   ]
  },
  {
   "cell_type": "code",
   "execution_count": null,
   "metadata": {},
   "outputs": [],
   "source": [
    "part2 Q5=\"\"\"\n",
    "git checkout -b reversesort\n",
    "mv qn-1/touch-test qn-1/LICENSE\n",
    "echo \"Permission is hereby granted, free of charge, to any person obtaining a copy of this software and associated documentation files (the “Software”), to deal in the Software without restriction.\" > qn-1/LICENSE\n",
    "touch qn-5/README.md\n",
    "echo \"# This ReadMe contains important information.\" > qn-5/README.md\n",
    "cp qn-2/find-fruit.sh qn-5/find-reverse-fruit.sh\n",
    "cp qn-2/fruit-and-veg.txt qn-5/fruit-and-veg.txt\n",
    "./find-reverse-fruit.sh fruit-and-veg.txt out3.txt co\n",
    "git add --all\n",
    "git commit -m \"part2Q5\"\n",
    "git checkout main\n",
    "git merge reversesort\n",
    "git push\n",
    "\n",
    "\"\"\""
   ]
  }
 ],
 "metadata": {
  "kernelspec": {
   "display_name": "Python 3",
   "language": "python",
   "name": "python3"
  },
  "language_info": {
   "codemirror_mode": {
    "name": "ipython",
    "version": 3
   },
   "file_extension": ".py",
   "mimetype": "text/x-python",
   "name": "python",
   "nbconvert_exporter": "python",
   "pygments_lexer": "ipython3",
   "version": "3.6.13"
  }
 },
 "nbformat": 4,
 "nbformat_minor": 4
}
